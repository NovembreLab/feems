{
 "cells": [
  {
   "cell_type": "markdown",
   "metadata": {},
   "source": [
    "### Analysis of Northeast Indian + Nepali samples to delineate migration patterns in the Himalayan region"
   ]
  },
  {
   "cell_type": "code",
   "execution_count": 1,
   "metadata": {},
   "outputs": [],
   "source": [
    "%load_ext autoreload\n",
    "%autoreload 2\n",
    "\n",
    "import pandas as pd\n",
    "import os\n",
    "import numpy as np\n",
    "from datetime import date\n",
    "import pkg_resources\n",
    "from sklearn.impute import SimpleImputer\n",
    "from pandas_plink import read_plink\n",
    "from copy import deepcopy\n",
    "import itertools as it\n",
    "import statsmodels.api as sm\n",
    "from scipy.stats.distributions import chi2\n",
    "from random import choices\n",
    "import scipy as sp\n",
    "import networkx as nx\n",
    "from scipy.spatial.distance import pdist, squareform\n",
    "from sklearn.metrics.pairwise import haversine_distances\n",
    "\n",
    "# viz\n",
    "import matplotlib.pyplot as plt\n",
    "import cartopy.crs as ccrs\n",
    "import cartopy\n",
    "import seaborn as sns\n",
    "import plotly.express as px\n",
    "from mpl_toolkits.axes_grid1.inset_locator import inset_axes\n",
    "\n",
    "# feems\n",
    "import sys\n",
    "sys.path.append('../../')\n",
    "from feems.utils import prepare_graph_inputs\n",
    "from feems.spatial_graph import query_node_attributes\n",
    "from feems import SpatialGraph, Viz, Objective\n",
    "from feems.cross_validation import run_cv, comp_mats, run_cv_joint\n",
    "from feems.helper_funcs import cov_to_dist, comp_genetic_vs_fitted_distance, plot_default_vs_long_range, get_best_lre\n",
    "from feems.joint_ver import FEEMSmix_SpatialGraph, FEEMSmix_Objective\n",
    "\n",
    "# change matplotlib fonts\n",
    "plt.rcParams[\"font.family\"] = \"Arial\"\n",
    "plt.rcParams[\"font.sans-serif\"] = \"Arial\"\n",
    "plt.rcParams[\"axes.axisbelow\"] = True"
   ]
  },
  {
   "cell_type": "code",
   "execution_count": 212,
   "metadata": {},
   "outputs": [
    {
     "name": "stderr",
     "output_type": "stream",
     "text": [
      "Mapping files:   0%|          | 0/3 [01:53<?, ?it/s]\n",
      "Mapping files:   0%|          | 0/3 [01:06<?, ?it/s]\n",
      "/Users/vivaswatshastry/mambaforge/envs/feems/lib/python3.10/site-packages/shapely/predicates.py:798: RuntimeWarning: invalid value encountered in intersects\n",
      "  return lib.intersects(a, b, **kwargs)\n"
     ]
    }
   ],
   "source": [
    "# os.chdir(\"/Users/vivaswatshastry/Google Drive/Other computers/My Mac mini/Documents/feemsResults/NEI/data\")\n",
    "# (bim, fam, G) = read_plink(\"FEEMS_v2_noEA_pruned\")\n",
    "\n",
    "## need to create a .coord file with # of rows = # of samples and 2 columns (Longitude, Latitude)\n",
    "# poplocs = pd.read_csv('poplist_FEEMS_v3.csv')\n",
    "# indlocs = np.zeros((fam.shape[0],2))\n",
    "# for i in range(fam.shape[0]):\n",
    "#     indlocs[i,:] = poplocs.loc[poplocs['Location'] == fam['fid'][i], ['Lon', 'Lat']]\n",
    "# np.savetxt('indlist.coords', indlocs, delimiter='\\t')\n",
    "# coord = np.loadtxt(\"indlist.coords\")\n",
    "# coord = np.loadtxt(\"indlist_noEA.coords\")\n",
    "# outer = np.loadtxt(\"outer.coords\")\n",
    "# grid_path = \"/Users/vivaswatshastry/src/feems/feems/data/grid_50.shp\"\n",
    "# grid_path = \"/Volumes/GoogleDrive/Other computers/My Mac mini/Documents/feemsResults/59-Ursus_Example/world_triangle_res8.shp\"\n",
    "\n",
    "# np.savetxt('indlist_noEA.coords', indlocs[np.where(~fam['fid'].isin(['Japanese','CHB','Korean']))[0]], delimiter='\\t')\n",
    "\n",
    "outer, edges, grid, _ = prepare_graph_inputs(coord=indlocs, \n",
    "                                             ggrid=grid_path,\n",
    "                                             translated=False, \n",
    "                                             buffer=1,\n",
    "                                             outer=None)"
   ]
  },
  {
   "cell_type": "code",
   "execution_count": 213,
   "metadata": {},
   "outputs": [],
   "source": [
    "imp = SimpleImputer(missing_values=np.nan, strategy=\"mean\")\n",
    "genotypes = imp.fit_transform((np.array(G)).T)\n",
    "genotypes = np.delete(genotypes,np.where(genotypes.sum(axis=0)==2*genotypes.shape[0])[0],1)\n",
    "genotypes = np.delete(genotypes,np.where(genotypes.sum(axis=0)==0)[0],1)\n",
    "\n",
    "# print(\"n_samples={}, n_snps={}\".format(genotypes.shape[0], genotypes.shape[1]))\n",
    "## subsampling to 50k SNPs for initial run\n",
    "# genotypes_sub = genotypes[:,np.random.choice(np.arange(genotypes.shape[1]),50000,replace=False)]\n",
    "# genotypes_sub = np.delete(genotypes_sub,np.where(genotypes_sub.sum(axis=0)==0)[0],1)\n",
    "# genotypes_sub = np.delete(genotypes_sub,np.where(genotypes_sub.sum(axis=0)==2*genotypes_sub.shape[0])[0],1)\n",
    "\n",
    "# genotypes_sub2 = genotypes[:,np.random.choice(np.arange(genotypes.shape[1]),200000,replace=False)]\n",
    "# genotypes_sub2 = np.delete(genotypes_sub2,np.where(genotypes_sub2.sum(axis=0)==0)[0],1)\n",
    "# genotypes_sub2 = np.delete(genotypes_sub2,np.where(genotypes_sub2.sum(axis=0)==2*genotypes_sub2.shape[0])[0],1)"
   ]
  },
  {
   "cell_type": "code",
   "execution_count": 217,
   "metadata": {},
   "outputs": [
    {
     "data": {
      "text/plain": [
       "array([  1.        ,   3.16227766,  10.        ,  31.6227766 ,\n",
       "       100.        ])"
      ]
     },
     "execution_count": 217,
     "metadata": {},
     "output_type": "execute_result"
    }
   ],
   "source": []
  },
  {
   "cell_type": "code",
   "execution_count": 176,
   "metadata": {},
   "outputs": [],
   "source": [
    "# spgraph = SpatialGraph(genotypes, indlocs, grid, edges)\n",
    "# %time spgraph.fit(lamb=400.)\n",
    " \n",
    "# fig = plt.figure(dpi=200)\n",
    "# ax = fig.add_subplot(1, 1, 1, projection=projection)  \n",
    "# v = Viz(ax, spgraph, projection=projection, edge_width=.5, edge_alpha=1, edge_zorder=100, sample_pt_size=10, obs_node_textsize=5, obs_node_size=1.5, sample_pt_color=\"black\", cbar_ticklabelsize=8, cbar_width=0.5, cbar_height=0.1, cbar_font_size=8)\n",
    "# v.draw_map(latlong=[[20,25,30,35],[70,80,90,100]]); v.draw_samples(); v.draw_edges(use_weights=True); v.draw_obs_nodes(use_ids=False); v.draw_edge_colorbar()"
   ]
  },
  {
   "cell_type": "code",
   "execution_count": 231,
   "metadata": {},
   "outputs": [
    {
     "name": "stdout",
     "output_type": "stream",
     "text": [
      "constant-w/variance fit, converged in 138 iterations, train_loss=-1996635.202\n",
      "lambda=1.000, alpha=0.3350, converged in 5296 iterations, train_loss=-3382173.359\n",
      "CPU times: user 36min 33s, sys: 29min 54s, total: 1h 6min 28s\n",
      "Wall time: 16min 9s\n"
     ]
    }
   ],
   "source": [
    "# sp_graph = FEEMSmix_SpatialGraph(genotypes, indlocs, grid, edges)\n",
    "%time sp_graph.fit(lamb=1., optimize_q='n-dim')\n",
    "obj = FEEMSmix_Objective(sp_graph); obj.inv(); obj.grad(reg=False)\n",
    "\n",
    "# projection = ccrs.AzimuthalEquidistant(central_longitude=90, central_latitude=23)   \n",
    "# fig = plt.figure(dpi=200)\n",
    "# ax = fig.add_subplot(1, 1, 1, projection=projection)  \n",
    "# v = Viz(ax, sp_graph, projection=projection, edge_width=.5, edge_alpha=1, edge_zorder=100, sample_pt_size=10, obs_node_textsize=5, obs_node_size=1.5, sample_pt_color=\"black\", cbar_ticklabelsize=10, cbar_width=0.5, cbar_height=0.1, cbar_font_size=8, abs_max=2)\n",
    "# v.draw_map(latlong=[[20,25,30,35],[70,80,90,100]])\n",
    "# v.draw_samples(); v.draw_edges(use_weights=True); v.draw_obs_nodes(use_ids=False); v.draw_edge_colorbar()\n",
    "## plt.savefig('../results/noEA_ndim_lamb30.pdf', bbox_inches='tight')\n",
    "# v.ax.add_feature(cartopy.feature.NaturalEarthFeature(category='physical', name='rivers_lake_centerlines',\n",
    "#     scale='110m', facecolor='none', edgecolor='grey'))\n",
    "# obs_grid = v.grid[query_node_attributes(sp_graph, \"permuted_idx\")[: sp_graph.n_observed_nodes],:]\n",
    "# colshigh = ['#e41a1c','#377eb8','#4daf4a','#984ea3','#ff7f00']\n",
    "# colslow = ['#7fc97f','#beaed4','#fdc086','#ffff99','#386cb0']\n",
    "# dash = ['-', '--', '-.', ':', 'solid']\n",
    "# for ij, j in enumerate(np.unique(np.array(max_res_node)[:,1])):\n",
    "#     for i in np.where(np.array(max_res_node)[:,1]==j)[0]:\n",
    "#         v.ax.plot(\n",
    "#             [obs_grid[max_res_node[i][0], 0],obs_grid[max_res_node[i][1],0]],\n",
    "#             [obs_grid[max_res_node[i][0], 1],obs_grid[max_res_node[i][1],1]],\n",
    "#             color = colslow[ij], linewidth = 1, alpha=0.95, ls=dash[ij] \n",
    "#         )\n",
    "    # v.ax.text(\n",
    "    #     np.mean([obs_grid[max_res_[i][0], 0],obs_grid[pair[i][1], 0]]),\n",
    "    #     np.mean([obs_grid[pair[i][0], 1],obs_grid[pair[i][1], 1]]),\n",
    "    #     str(\"{:.3f}\".format(pval[i])),\n",
    "    #     horizontalalignment=\"left\",\n",
    "    #     verticalalignment=\"center\",\n",
    "    #     size=v.obs_node_textsize*1.1\n",
    "    # )\n",
    "# for ie, e in enumerate([(24, 28),(33, 30),(30,31)]):\n",
    "#         v.draw_arrow([e],1.,lw=2.2,hw=.5e5,hl=1e5,mode='sampled')"
   ]
  },
  {
   "cell_type": "code",
   "execution_count": 219,
   "metadata": {},
   "outputs": [
    {
     "data": {
      "text/plain": [
       "-3.333663464467007"
      ]
     },
     "execution_count": 219,
     "metadata": {},
     "output_type": "execute_result"
    }
   ],
   "source": [
    "np.min(v.norm_log_weights)"
   ]
  },
  {
   "cell_type": "code",
   "execution_count": 232,
   "metadata": {},
   "outputs": [
    {
     "data": {
      "text/plain": [
       "Text(0, 0.5, 'genetic distance')"
      ]
     },
     "execution_count": 232,
     "metadata": {},
     "output_type": "execute_result"
    },
    {
     "data": {
      "image/png": "[encoded data removed]",
      "text/plain": [
       "<Figure size 640x480 with 1 Axes>"
      ]
     },
     "metadata": {},
     "output_type": "display_data"
    }
   ],
   "source": [
    "fit_cov, _, emp_cov = comp_mats(obj); tril_idx = np.tril_indices(sp_graph.n_observed_nodes)\n",
    "fit_dist = cov_to_dist(fit_cov)[tril_idx]\n",
    "emp_dist = cov_to_dist(emp_cov)[tril_idx]\n",
    "X = sm.add_constant(fit_dist)\n",
    "mod = sm.OLS(emp_dist, X)\n",
    "res = mod.fit()\n",
    "muhat, betahat = res.params\n",
    "plt.scatter(fit_dist, emp_dist, marker=\".\", alpha=1, zorder=0, color=\"black\", s=25)\n",
    "plt.scatter(fit_dist[res.resid<-0.23],emp_dist[res.resid<-0.23],marker='x',color='red',s=15)\n",
    "x_ = np.linspace(np.min(fit_dist), np.max(fit_dist), 20)\n",
    "plt.plot(x_, muhat + betahat * x_, zorder=2, color=\"orange\", linestyle='--', linewidth=1); plt.grid()\n",
    "plt.text(1.5, .5, \"R²={:.4f}\".format(res.rsquared), size='x-large')\n",
    "plt.xlabel(\"fitted distance $(\\lambda = \\lambda_{CV} \\cdot 10^{-2})$\")\n",
    "plt.ylabel(\"genetic distance\")\n",
    "\n",
    "## finding variants that have positive residuals\n",
    "# plt.hist(res.resid,15)\n",
    "# max_res_node = []\n",
    "# for k in np.where(res.resid<-0.3)[0]:\n",
    "#     x = np.floor(np.sqrt(2*k+0.25)-0.5).astype('int')+1\n",
    "#     y = int(k - 0.5*x*(x-1))\n",
    "#     max_res_node.append(sorted((x,y)))\n",
    "# lrn_idx = [int(val[0] + 0.5*val[1]*(val[1]+1) - val[1]) if val[0]<val[1] else int(val[1] + 0.5*val[0]*(val[0]+1) - val[0]) for val in max_res_node]"
   ]
  },
  {
   "cell_type": "code",
   "execution_count": 236,
   "metadata": {},
   "outputs": [],
   "source": [
    "# sp.stats.norm.cdf(-0.3,0,np.std(res.resid))"
   ]
  },
  {
   "cell_type": "code",
   "execution_count": null,
   "metadata": {},
   "outputs": [],
   "source": [
    "lamb_grid = np.geomspace(1e0, 1e3, 12)[::-1]\n",
    "cv_err = run_cv(sp_graph, lamb_grid, n_folds=5, factr=1e10)\n",
    "mean_cv_err = np.mean(cv_err, axis=0)\n",
    "lamb_cv = float(lamb_grid[np.argmin(mean_cv_err)])\n",
    "\n",
    "plt.plot(lamb_grid,mean_cv_err,'bo'); plt.axvline(float(lamb_grid[np.argmin(mean_cv_err)]),color='orange'); plt.semilogx(); plt.xlabel(r'$\\lambda$'); plt.ylabel('CV error'); plt.grid()"
   ]
  },
  {
   "cell_type": "code",
   "execution_count": null,
   "metadata": {},
   "outputs": [],
   "source": [
    "# from matplotlib import gridspec\n",
    "fig = plt.figure(constrained_layout=True, dpi=300, figsize=(6, 6))\n",
    "spec = gridspec.GridSpec(ncols=2, nrows=2, figure=fig)\n",
    "\n",
    "# (A) Genetic distance vs geographic distance\n",
    "# D_geno = squareform(pdist(sp_graph.genotypes, metric=\"sqeuclidean\")) / sp_graph.n_snps\n",
    "coord_rad = indlocs[:,::-1] * np.math.pi / 180.0\n",
    "D_geo = haversine_distances(coord_rad) * 6371000/1000\n",
    "tril_idx = np.tril_indices(sp_graph.genotypes.shape[0], k=-1)\n",
    "x = D_geo[tril_idx]\n",
    "y = D_geno[tril_idx]\n",
    "X = sm.add_constant(x)\n",
    "mod = sm.OLS(y, X)\n",
    "res = mod.fit()\n",
    "muhat, betahat = res.params\n",
    "\n",
    "ax_00 = fig.add_subplot(spec[0, 0])\n",
    "ax_00.set_title(\"A\", loc='left')\n",
    "ax_00.scatter(x, \n",
    "              y, \n",
    "              marker=\".\", \n",
    "              alpha=1, \n",
    "              zorder=0, \n",
    "              color=\"black\",\n",
    "              s=3)\n",
    "\n",
    "x_ = np.linspace(np.min(x), np.max(x), 20)\n",
    "ax_00.plot(x_, muhat + betahat * x_, zorder=2, color=\"orange\", linestyle='--', linewidth=1); ax_00.grid()\n",
    "ax_00.text(1500, .3, \"R²={:.4f}\".format(res.rsquared))\n",
    "ax_00.set_xlabel(\"great circle distance (km)\")\n",
    "ax_00.set_ylabel(\"genetic distance\")\n",
    "\n",
    "# (B) Genetic distance vs fitted distance for constant w model \n",
    "tril_idx = np.tril_indices(sp_graph.n_observed_nodes, k=-1)\n",
    "ax_01 = fig.add_subplot(spec[0, 1])\n",
    "ax_01.set_title(\"B\", loc='left')\n",
    "sp_graph.fit_null_model()\n",
    "sp_graph.comp_graph_laplacian(sp_graph.w)\n",
    "\n",
    "obj = FEEMSmix_Objective(sp_graph)\n",
    "fit_cov, _, emp_cov = comp_mats(obj)\n",
    "fit_dist = cov_to_dist(fit_cov)[tril_idx]\n",
    "emp_dist = cov_to_dist(emp_cov)[tril_idx]\n",
    "X = sm.add_constant(fit_dist)\n",
    "mod = sm.OLS(emp_dist, X)\n",
    "res = mod.fit()\n",
    "muhat, betahat = res.params\n",
    "ax_01.scatter(fit_dist, \n",
    "              emp_dist, \n",
    "              marker=\".\", \n",
    "              alpha=1, \n",
    "              zorder=0, \n",
    "              color=\"black\",\n",
    "              s=3)\n",
    "\n",
    "x_ = np.linspace(np.min(fit_dist), np.max(fit_dist), 20)\n",
    "ax_01.plot(x_, muhat + betahat * x_, zorder=2, color=\"orange\", linestyle='--', linewidth=1); ax_01.grid()\n",
    "ax_01.text(2, 0.5, \"R²={:.4f}\".format(res.rsquared))\n",
    "ax_01.set_xlabel(\"fitted distance (constant w)\")\n",
    "\n",
    "# (C) Genetic distance vs fitted distance for lambda = lambda_cv\n",
    "tril_idx = np.tril_indices(sp_graph.n_observed_nodes, k=-1)\n",
    "ax_10 = fig.add_subplot(spec[1, 0])\n",
    "ax_10.set_title(\"C\", loc='left')\n",
    "lamb = lamb_cv\n",
    "sp_graph.fit(lamb=lamb,\n",
    "             lb=np.math.log(1e-6), \n",
    "             ub=np.math.log(1e+6))\n",
    "sp_graph.comp_graph_laplacian(sp_graph.w)\n",
    "\n",
    "obj = FEEMSmix_Objective(sp_graph)\n",
    "fit_cov, _, emp_cov = comp_mats(obj)\n",
    "fit_dist = cov_to_dist(fit_cov)[tril_idx]\n",
    "emp_dist = cov_to_dist(emp_cov)[tril_idx]\n",
    "X = sm.add_constant(fit_dist)\n",
    "mod = sm.OLS(emp_dist, X)\n",
    "res = mod.fit()\n",
    "muhat, betahat = res.params\n",
    "ax_10.scatter(fit_dist,\n",
    "              emp_dist,\n",
    "              marker=\".\", \n",
    "              alpha=1, \n",
    "              zorder=0, \n",
    "              color=\"black\",\n",
    "              s=3)\n",
    "\n",
    "x_ = np.linspace(np.min(fit_dist), np.max(fit_dist), 20)\n",
    "ax_10.plot(x_, muhat + betahat * x_, zorder=2, color=\"orange\", linestyle='--', linewidth=1); ax_10.grid()\n",
    "ax_10.text(2., 0.5, \"R²={:.4f}\".format(res.rsquared))\n",
    "ax_10.set_xlabel(\"fitted distance $(\\lambda = \\lambda_{CV} = 359)$\")\n",
    "ax_10.set_ylabel(\"genetic distance\")\n",
    "\n",
    "# (D) Genetic distance vs fitted distance for lambda = 1e-3*lambda_cv\n",
    "ax_11 = fig.add_subplot(spec[1, 1])\n",
    "ax_11.set_title(\"D\", loc='left')\n",
    "lamb = 0.001*lamb_cv\n",
    "sp_graph.fit(lamb=lamb,\n",
    "             lb=np.math.log(1e-6), \n",
    "             ub=np.math.log(1e+6))\n",
    "sp_graph.comp_graph_laplacian(sp_graph.w)\n",
    "\n",
    "obj = FEEMSmix_Objective(sp_graph)\n",
    "fit_cov, _, emp_cov = comp_mats(obj)\n",
    "fit_dist = cov_to_dist(fit_cov)[tril_idx]\n",
    "emp_dist = cov_to_dist(emp_cov)[tril_idx]\n",
    "X = sm.add_constant(fit_dist)\n",
    "mod = sm.OLS(emp_dist, X)\n",
    "res = mod.fit()\n",
    "muhat, betahat = res.params\n",
    "ax_11.scatter(fit_dist,\n",
    "              emp_dist,\n",
    "              marker=\".\", \n",
    "              alpha=1, \n",
    "              zorder=0, \n",
    "              color=\"black\",\n",
    "              s=3)\n",
    "\n",
    "x_ = np.linspace(np.min(fit_dist), np.max(fit_dist), 20)\n",
    "ax_11.plot(x_, muhat + betahat * x_, zorder=2, color=\"orange\", linestyle='--', linewidth=1); ax_11.grid()\n",
    "ax_11.text(2., 0.5, \"R²={:.4f}\".format(res.rsquared))\n",
    "ax_11.set_xlabel(\"fitted distance ($\\lambda = \\lambda_{CV}\\cdot 10^{-3}$)\")\n",
    "ax_11.set_ylabel(\"genetic distance\")"
   ]
  }
 ],
 "metadata": {
  "kernelspec": {
   "display_name": "Python 3 (ipykernel)",
   "language": "python",
   "name": "python3"
  },
  "language_info": {
   "codemirror_mode": {
    "name": "ipython",
    "version": 3
   },
   "file_extension": ".py",
   "mimetype": "text/x-python",
   "name": "python",
   "nbconvert_exporter": "python",
   "pygments_lexer": "ipython3",
   "version": "3.10.2"
  }
 },
 "nbformat": 4,
 "nbformat_minor": 4
}
